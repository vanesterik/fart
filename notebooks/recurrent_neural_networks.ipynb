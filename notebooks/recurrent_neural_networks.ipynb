{
 "cells": [
  {
   "cell_type": "code",
   "execution_count": null,
   "metadata": {},
   "outputs": [],
   "source": [
    "# Create a numpy array with the columns we want to use\n",
    "array = df[\n",
    "    [\n",
    "        cn.CLOSE,\n",
    "        cn.BBANDS_UPPER,\n",
    "        cn.BBANDS_MIDDLE,\n",
    "        cn.BBANDS_LOWER,\n",
    "        cn.MA_50,\n",
    "        cn.MA_100,\n",
    "        cn.RSI,\n",
    "    ]\n",
    "].to_numpy()\n",
    "\n",
    "# Define how many minutes we want to base our predictions on\n",
    "horizon = 15\n",
    "\n",
    "# Define X and y arrays\n",
    "X = []\n",
    "y = []\n",
    "\n",
    "# Loop through ndarray and determine X and y based on horizon\n",
    "for i in range(len(array) - horizon):\n",
    "    # Define predictors based on previous closing prices and indicators\n",
    "    predictors = [predictor for predictor in array[i : i + horizon]]\n",
    "    X.append(predictors)\n",
    "    # Define label based on closing price of next horizon\n",
    "    label = array[i + horizon][0]\n",
    "    y.append(label)\n",
    "\n",
    "X = np.array(X)\n",
    "y = np.array(y)"
   ]
  }
 ],
 "metadata": {
  "language_info": {
   "name": "python"
  }
 },
 "nbformat": 4,
 "nbformat_minor": 2
}
