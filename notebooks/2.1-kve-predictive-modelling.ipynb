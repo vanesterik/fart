{
 "cells": [
  {
   "cell_type": "code",
   "execution_count": 1,
   "metadata": {},
   "outputs": [],
   "source": [
    "%load_ext autoreload\n",
    "%autoreload 2\n",
    "\n",
    "# External imports\n",
    "import numpy as np\n",
    "import polars as pl\n",
    "from sklearn.metrics import classification_report\n",
    "from tensorflow.keras import Sequential\n",
    "from tensorflow.keras.layers import Dense, Dropout, Input, LSTM, Normalization\n",
    "from tensorflow.keras.callbacks import EarlyStopping\n",
    "\n",
    "# Local imports\n",
    "from fart.constants import feature_names as fn\n",
    "from fart.features.calculate_technical_indicators import calculate_technical_indicators\n",
    "from fart.features.parse_timestamp_to_datetime import parse_timestamp_to_datetime\n",
    "from fart.features.trade_signals import TradeSignals\n",
    "from fart.model.train_test_split import train_test_split\n",
    "from fart.visualization.plot_confusion_matrix import plot_confusion_matrix"
   ]
  },
  {
   "cell_type": "code",
   "execution_count": 2,
   "metadata": {},
   "outputs": [],
   "source": [
    "# Load data and calculate technical indicators\n",
    "df = pl.read_csv(\"../data/BTC-EUR.csv\")\n",
    "df = parse_timestamp_to_datetime(df)\n",
    "df = calculate_technical_indicators(df)\n",
    "\n",
    "# Generate trading signals based on technical indicators\n",
    "trade_signals = TradeSignals(df)\n",
    "trade_signals.generate()\n",
    "trade_signals.optimize()\n",
    "\n",
    "# Assign processed data to df\n",
    "df = trade_signals.df"
   ]
  },
  {
   "cell_type": "code",
   "execution_count": 3,
   "metadata": {},
   "outputs": [],
   "source": [
    "# Keep only relevant columns\n",
    "df = df.select([\n",
    "    fn.OPEN,\n",
    "    fn.HIGH,\n",
    "    fn.LOW,\n",
    "    fn.CLOSE,\n",
    "    fn.VOLUME,\n",
    "    fn.TRADE_SIGNAL,\n",
    "])\n",
    "\n",
    "# Drop NaNs\n",
    "df = df.drop_nans()"
   ]
  },
  {
   "cell_type": "code",
   "execution_count": 4,
   "metadata": {},
   "outputs": [],
   "source": [
    "# Split data into training and test sets\n",
    "X_train, X_test, y_train, y_test = train_test_split(df)\n",
    "\n",
    "# Transform all to numpy arrays in order to process them with TensorFlow\n",
    "X_train, X_test, y_train, y_test = map(\n",
    "    lambda x: x.to_numpy(),\n",
    "    [\n",
    "        X_train,\n",
    "        X_test,\n",
    "        y_train,\n",
    "        y_test,\n",
    "    ],\n",
    ")"
   ]
  },
  {
   "cell_type": "code",
   "execution_count": null,
   "metadata": {},
   "outputs": [],
   "source": [
    "# Reshape data for LSTM\n",
    "X_train_reshaped = X_train.reshape(X_train.shape[0], 1, X_train.shape[1])\n",
    "\n",
    "# Define normalization layer\n",
    "normalization = Normalization(axis=-1)\n",
    "normalization.adapt(X_train_reshaped)\n",
    "\n",
    "# Define input shape\n",
    "input_shape = (X_train_reshaped.shape[1], X_train_reshaped.shape[2])\n",
    "\n",
    "# Define sequential model with normalization, LSTM and Dense layers\n",
    "model = Sequential(\n",
    "    [\n",
    "        Input(shape=input_shape),\n",
    "        normalization,\n",
    "        LSTM(50, return_sequences=True),\n",
    "        Dropout(0.2),\n",
    "        LSTM(50, return_sequences=False),\n",
    "        Dropout(0.2),\n",
    "        Dense(3, activation=\"softmax\"),\n",
    "    ]\n",
    ")\n",
    "\n",
    "# Compile and fit model\n",
    "model.compile(\n",
    "    optimizer=\"adam\",\n",
    "    loss=\"sparse_categorical_crossentropy\",\n",
    "    metrics=[\"accuracy\"],\n",
    ")\n",
    "model.fit(\n",
    "    X_train_reshaped, y_train,\n",
    "    epochs=50,\n",
    "    batch_size=32,\n",
    "    validation_split=0.2,\n",
    "    callbacks=[EarlyStopping(patience=5, restore_best_weights=True)]\n",
    ")"
   ]
  },
  {
   "cell_type": "code",
   "execution_count": null,
   "metadata": {},
   "outputs": [],
   "source": [
    "# Reshape test data for prediction\n",
    "X_test_reshaped = X_test.reshape(X_test.shape[0], 1, X_test.shape[1])\n",
    "\n",
    "# Predict on test set\n",
    "y_pred = model.predict(X_test_reshaped)\n",
    "y_pred_classes = np.argmax(y_pred, axis=1)\n",
    "\n",
    "# Print classification report and confusion matrix\n",
    "print(classification_report(y_test, y_pred_classes, zero_division=1))\n",
    "plot_confusion_matrix(y_test, y_pred_classes)"
   ]
  }
 ],
 "metadata": {
  "kernelspec": {
   "display_name": ".venv",
   "language": "python",
   "name": "python3"
  },
  "language_info": {
   "codemirror_mode": {
    "name": "ipython",
    "version": 3
   },
   "file_extension": ".py",
   "mimetype": "text/x-python",
   "name": "python",
   "nbconvert_exporter": "python",
   "pygments_lexer": "ipython3",
   "version": "3.11.5"
  }
 },
 "nbformat": 4,
 "nbformat_minor": 2
}
