{
 "cells": [
  {
   "cell_type": "code",
   "execution_count": 1,
   "metadata": {},
   "outputs": [],
   "source": [
    "%load_ext autoreload\n",
    "%autoreload 2\n",
    "\n",
    "# External imports\n",
    "import numpy as np\n",
    "import polars as pl\n",
    "from sklearn.metrics import classification_report\n",
    "from tensorflow.keras import Sequential\n",
    "from tensorflow.keras.layers import Dense, Dropout, Input, LSTM, Normalization\n",
    "from tensorflow.keras.callbacks import EarlyStopping\n",
    "\n",
    "# Local imports\n",
    "from fart.common.constants import (\n",
    "    OPEN,\n",
    "    HIGH,\n",
    "    LOW,\n",
    "    CLOSE,\n",
    "    VOLUME,\n",
    "    TRADE_SIGNAL,\n",
    ")\n",
    "from fart.features.calculate_technical_indicators import calculate_technical_indicators\n",
    "from fart.features.parse_timestamp_to_datetime import parse_timestamp_to_datetime\n",
    "from fart.features.trade_signals import TradeSignals\n",
    "from fart.model.train_test_split import train_test_split\n",
    "from fart.visualization.plot_confusion_matrix import plot_confusion_matrix"
   ]
  },
  {
   "cell_type": "code",
   "execution_count": 2,
   "metadata": {},
   "outputs": [],
   "source": [
    "# Load data and calculate technical indicators\n",
    "df = pl.read_csv(\"../data/BTC-EUR.csv\")\n",
    "df = parse_timestamp_to_datetime(df)\n",
    "df = calculate_technical_indicators(df)\n",
    "\n",
    "# Generate trading signals based on technical indicators\n",
    "trade_signals = TradeSignals(df)\n",
    "trade_signals.generate()\n",
    "trade_signals.optimize()\n",
    "\n",
    "# Assign processed data to df\n",
    "df = trade_signals.df"
   ]
  },
  {
   "cell_type": "code",
   "execution_count": 3,
   "metadata": {},
   "outputs": [],
   "source": [
    "# Keep only relevant columns\n",
    "df = df.select([\n",
    "    OPEN,\n",
    "    HIGH,\n",
    "    LOW,\n",
    "    CLOSE,\n",
    "    VOLUME,\n",
    "    TRADE_SIGNAL,\n",
    "])\n",
    "\n",
    "# Drop NaNs\n",
    "df = df.drop_nans()"
   ]
  },
  {
   "cell_type": "code",
   "execution_count": 4,
   "metadata": {},
   "outputs": [],
   "source": [
    "# Split data into training and test sets\n",
    "X_train, X_test, y_train, y_test = train_test_split(df)\n",
    "\n",
    "# Transform all to numpy arrays in order to process them with TensorFlow\n",
    "X_train, X_test, y_train, y_test = map(\n",
    "    lambda x: x.to_numpy(),\n",
    "    [\n",
    "        X_train,\n",
    "        X_test,\n",
    "        y_train,\n",
    "        y_test,\n",
    "    ],\n",
    ")"
   ]
  },
  {
   "cell_type": "code",
   "execution_count": 5,
   "metadata": {},
   "outputs": [
    {
     "name": "stdout",
     "output_type": "stream",
     "text": [
      "Epoch 1/50\n",
      "\u001b[1m2028/2028\u001b[0m \u001b[32m━━━━━━━━━━━━━━━━━━━━\u001b[0m\u001b[37m\u001b[0m \u001b[1m3s\u001b[0m 1ms/step - accuracy: 0.9484 - loss: 0.3237 - val_accuracy: 0.9573 - val_loss: 0.2051\n",
      "Epoch 2/50\n",
      "\u001b[1m2028/2028\u001b[0m \u001b[32m━━━━━━━━━━━━━━━━━━━━\u001b[0m\u001b[37m\u001b[0m \u001b[1m2s\u001b[0m 976us/step - accuracy: 0.9585 - loss: 0.2026 - val_accuracy: 0.9573 - val_loss: 0.2052\n",
      "Epoch 3/50\n",
      "\u001b[1m2028/2028\u001b[0m \u001b[32m━━━━━━━━━━━━━━━━━━━━\u001b[0m\u001b[37m\u001b[0m \u001b[1m2s\u001b[0m 995us/step - accuracy: 0.9565 - loss: 0.2103 - val_accuracy: 0.9573 - val_loss: 0.2056\n",
      "Epoch 4/50\n",
      "\u001b[1m2028/2028\u001b[0m \u001b[32m━━━━━━━━━━━━━━━━━━━━\u001b[0m\u001b[37m\u001b[0m \u001b[1m2s\u001b[0m 970us/step - accuracy: 0.9559 - loss: 0.2125 - val_accuracy: 0.9573 - val_loss: 0.2057\n",
      "Epoch 5/50\n",
      "\u001b[1m2028/2028\u001b[0m \u001b[32m━━━━━━━━━━━━━━━━━━━━\u001b[0m\u001b[37m\u001b[0m \u001b[1m2s\u001b[0m 992us/step - accuracy: 0.9565 - loss: 0.2097 - val_accuracy: 0.9573 - val_loss: 0.2060\n",
      "Epoch 6/50\n",
      "\u001b[1m2028/2028\u001b[0m \u001b[32m━━━━━━━━━━━━━━━━━━━━\u001b[0m\u001b[37m\u001b[0m \u001b[1m2s\u001b[0m 973us/step - accuracy: 0.9574 - loss: 0.2062 - val_accuracy: 0.9573 - val_loss: 0.2054\n"
     ]
    },
    {
     "data": {
      "text/plain": [
       "<keras.src.callbacks.history.History at 0x327f3c090>"
      ]
     },
     "execution_count": 5,
     "metadata": {},
     "output_type": "execute_result"
    }
   ],
   "source": [
    "# Reshape data for LSTM\n",
    "X_train_reshaped = X_train.reshape(X_train.shape[0], 1, X_train.shape[1])\n",
    "\n",
    "# Define normalization layer\n",
    "normalization = Normalization(axis=-1)\n",
    "normalization.adapt(X_train_reshaped)\n",
    "\n",
    "# Define input shape\n",
    "input_shape = (X_train_reshaped.shape[1], X_train_reshaped.shape[2])\n",
    "\n",
    "# Define sequential model with normalization, LSTM and Dense layers\n",
    "model = Sequential(\n",
    "    [\n",
    "        Input(shape=input_shape),\n",
    "        normalization,\n",
    "        LSTM(50, return_sequences=True),\n",
    "        Dropout(0.2),\n",
    "        LSTM(50, return_sequences=False),\n",
    "        Dropout(0.2),\n",
    "        Dense(3, activation=\"softmax\"),\n",
    "    ]\n",
    ")\n",
    "\n",
    "# Compile and fit model\n",
    "model.compile(\n",
    "    optimizer=\"adam\",\n",
    "    loss=\"sparse_categorical_crossentropy\",\n",
    "    metrics=[\"accuracy\"],\n",
    ")\n",
    "model.fit(\n",
    "    X_train_reshaped, y_train,\n",
    "    epochs=50,\n",
    "    batch_size=32,\n",
    "    validation_split=0.2,\n",
    "    callbacks=[EarlyStopping(patience=5, restore_best_weights=True)]\n",
    ")"
   ]
  },
  {
   "cell_type": "code",
   "execution_count": 6,
   "metadata": {},
   "outputs": [
    {
     "name": "stdout",
     "output_type": "stream",
     "text": [
      "\u001b[1m634/634\u001b[0m \u001b[32m━━━━━━━━━━━━━━━━━━━━\u001b[0m\u001b[37m\u001b[0m \u001b[1m0s\u001b[0m 543us/step\n",
      "              precision    recall  f1-score   support\n",
      "\n",
      "           0       0.96      1.00      0.98     19403\n",
      "           1       1.00      0.00      0.00       436\n",
      "           2       1.00      0.00      0.00       436\n",
      "\n",
      "    accuracy                           0.96     20275\n",
      "   macro avg       0.99      0.33      0.33     20275\n",
      "weighted avg       0.96      0.96      0.94     20275\n",
      "\n"
     ]
    },
    {
     "data": {
      "image/png": "[encoded data removed]",
      "text/plain": [
       "<Figure size 400x300 with 2 Axes>"
      ]
     },
     "metadata": {},
     "output_type": "display_data"
    }
   ],
   "source": [
    "# Reshape test data for prediction\n",
    "X_test_reshaped = X_test.reshape(X_test.shape[0], 1, X_test.shape[1])\n",
    "\n",
    "# Predict on test set\n",
    "y_pred = model.predict(X_test_reshaped)\n",
    "y_pred_classes = np.argmax(y_pred, axis=1)\n",
    "\n",
    "# Print classification report and confusion matrix\n",
    "print(classification_report(y_test, y_pred_classes, zero_division=1))\n",
    "plot_confusion_matrix(y_test, y_pred_classes)"
   ]
  }
 ],
 "metadata": {
  "kernelspec": {
   "display_name": ".venv",
   "language": "python",
   "name": "python3"
  },
  "language_info": {
   "codemirror_mode": {
    "name": "ipython",
    "version": 3
   },
   "file_extension": ".py",
   "mimetype": "text/x-python",
   "name": "python",
   "nbconvert_exporter": "python",
   "pygments_lexer": "ipython3",
   "version": "3.11.5"
  }
 },
 "nbformat": 4,
 "nbformat_minor": 2
}
